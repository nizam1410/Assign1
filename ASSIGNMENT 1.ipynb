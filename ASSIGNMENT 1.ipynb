{
 "cells": [
  {
   "cell_type": "markdown",
   "id": "6c6068c3",
   "metadata": {},
   "source": [
    "**1. In the below elements which of them are values or an expression? eg:- values can be\n",
    "integer or string and expressions will be mathematical operators.\n",
    "*\n",
    "'hello'\n",
    "-87.8\n",
    "-\n",
    "/\n",
    "+\n",
    "6**\n",
    "\n",
    "\n"
   ]
  },
  {
   "cell_type": "markdown",
   "id": "6f892b20",
   "metadata": {},
   "source": [
    "\"*\" : This is the muliplication operator\n",
    "'hello' : This is a string data\n",
    "-87.8 : This is a negative float data\n",
    "\"-\" : This is the subtraction operator\n",
    "/ : This is the division operator\n",
    "\"+\" : This is the addition operator\n",
    "6 : This is an integer\n",
    "    \n",
    "    "
   ]
  },
  {
   "cell_type": "markdown",
   "id": "48eb75f4",
   "metadata": {},
   "source": [
    "**2. What is the difference between string and variable?**\n",
    "\n",
    "\n",
    "A variable is a named location in the memory which holds a value as the data. \n",
    "Whereas, a string is a type of data which consists of characters form A-Z and is always represented inside \" \" or ' '\n"
   ]
  },
  {
   "cell_type": "markdown",
   "id": "4c6bbd3c",
   "metadata": {},
   "source": [
    "**3. Describe three different data types.**\n",
    "\n",
    "\n",
    "(1.) String: A string is data type which can have \"A-Z\" characters. It has to be represented inside a \"\" or '' to be considered as a strign value. The .str() method can convert other data types into string so that operations can be performed between similiar data types.\n",
    "\n",
    "(2.)Boolean: A boolean is a data type which can have one of the outputs either TRUE or False. The in function is based on the same boolean logic. A number except 0 is always represented as True and if its 0 then, False. Similiarly, whitespaces are considered as False, while other values are considered as True.\n",
    "\n",
    "(3.)Integer: An integer is a numercial value or a whole number without a decimal point. The int() function is used to convert a data type into an integer so that operations can be performed on it.\n",
    "\n",
    "(4.)Float: A float is a numerical value which has a decimal point."
   ]
  },
  {
   "cell_type": "markdown",
   "id": "b9bf91be",
   "metadata": {},
   "source": [
    "**4.What is an expression made up of? What do all expressions do?**\n",
    "\n",
    "An expression is a combination of values, variables, operators, and calls to functions. Expressions need to be evaluated.\n",
    "example : a= 5+4^2 \n",
    "    this above example is combination of values which shows 20 as answer"
   ]
  },
  {
   "cell_type": "markdown",
   "id": "c824b1e9",
   "metadata": {},
   "source": [
    "**5. This assignment statements, like spam = 10. What is the difference between an expression and a statement?**\n",
    "\n",
    "\n",
    "The basic difference b/w a statement and an expression is that a statement is a line of code that performs a specific function or operation. Whereas, an expression is a combination of variables, operators, operands, etc which evalutes to a single value.\n",
    "\n",
    "Ex: statement = \"Hello!\" #This is an assignment statement \n",
    "x = 3 + 4 # Here, the expression '3 + 4' evaluates to the value 7, which is then assigned to the variable x."
   ]
  },
  {
   "cell_type": "markdown",
   "id": "5e14e877",
   "metadata": {},
   "source": [
    "**6.After running the following code, what does the variable bacon contain?**\n",
    "\n",
    "bacon = 22\n",
    "\n",
    "bacon + 1\n",
    "\n",
    "\n",
    "The variable bacon will contain the value 23. This happens because the operator adds 1 to the value of the variable \"bacon\" which is 22, so 22+1 = 23"
   ]
  },
  {
   "cell_type": "code",
   "execution_count": 2,
   "id": "aa70394c",
   "metadata": {},
   "outputs": [
    {
     "data": {
      "text/plain": [
       "23"
      ]
     },
     "execution_count": 2,
     "metadata": {},
     "output_type": "execute_result"
    }
   ],
   "source": [
    "bacon = 22\n",
    "\n",
    "bacon + 1"
   ]
  },
  {
   "cell_type": "markdown",
   "id": "b2968f67",
   "metadata": {},
   "source": [
    "**7.What should the values of the following two terms be?**\n",
    "\n",
    "\n",
    "'spam' + 'spamspam' and 'spam' * 3\n",
    "\n"
   ]
  },
  {
   "cell_type": "code",
   "execution_count": 3,
   "id": "7705d972",
   "metadata": {},
   "outputs": [
    {
     "data": {
      "text/plain": [
       "'spamspamspam'"
      ]
     },
     "execution_count": 3,
     "metadata": {},
     "output_type": "execute_result"
    }
   ],
   "source": [
    "'spam' + 'spamspam' "
   ]
  },
  {
   "cell_type": "code",
   "execution_count": 4,
   "id": "375985b2",
   "metadata": {},
   "outputs": [
    {
     "data": {
      "text/plain": [
       "'spamspamspam'"
      ]
     },
     "execution_count": 4,
     "metadata": {},
     "output_type": "execute_result"
    }
   ],
   "source": [
    " 'spam' * 3"
   ]
  },
  {
   "cell_type": "markdown",
   "id": "f9317f37",
   "metadata": {},
   "source": [
    "**8. Why is eggs a valid variable name while 100 is invalid?**\n",
    "\n",
    "eggs is a valid variable because a variable can contain letters A-Z or a-z, _ and numeric values. \n",
    "However, 100 is not a valid variable name as it cannot start with a numeric value or contain a space or special character like @#$&,etc"
   ]
  },
  {
   "cell_type": "markdown",
   "id": "2e05b2b0",
   "metadata": {},
   "source": [
    "**9. What three functions can be used to get the integer, floating-point number, or string version of a value?**\n",
    "\n",
    "There are functions in python which can help you to convert a data type from a specific type to another type.\n",
    "\n",
    "Integer: int()\n",
    "\n",
    "Float: float()\n",
    "\n",
    "String: str()\n",
    "\n",
    "The functions mentioned above are used for casting (convert) one data type to another."
   ]
  },
  {
   "cell_type": "markdown",
   "id": "08fbb836",
   "metadata": {},
   "source": [
    "**10. Why does this expression cause an error? How can you fix it?**\n",
    "\n",
    "'I have eaten' + 99 + 'burritos.'"
   ]
  },
  {
   "cell_type": "code",
   "execution_count": null,
   "id": "88d89872",
   "metadata": {},
   "outputs": [],
   "source": [
    "'I have eaten' + 99 + 'burritos.'\n",
    "\n",
    "The error occurs because, python can only concatenate similiar data types together. In the question mentioned above, 'I have eaten' and 'burritos' are string values while 99 is an integer.\n",
    "To fix this issue, we need to convert the integer to a string first and then execute the code."
   ]
  },
  {
   "cell_type": "code",
   "execution_count": 7,
   "id": "b77560fb",
   "metadata": {},
   "outputs": [
    {
     "data": {
      "text/plain": [
       "'I have eaten 99  burritos.'"
      ]
     },
     "execution_count": 7,
     "metadata": {},
     "output_type": "execute_result"
    }
   ],
   "source": [
    "'I have eaten' + ' 99 ' + ' burritos.'"
   ]
  },
  {
   "cell_type": "code",
   "execution_count": null,
   "id": "aa7fbf81",
   "metadata": {},
   "outputs": [],
   "source": []
  }
 ],
 "metadata": {
  "kernelspec": {
   "display_name": "Python 3 (ipykernel)",
   "language": "python",
   "name": "python3"
  },
  "language_info": {
   "codemirror_mode": {
    "name": "ipython",
    "version": 3
   },
   "file_extension": ".py",
   "mimetype": "text/x-python",
   "name": "python",
   "nbconvert_exporter": "python",
   "pygments_lexer": "ipython3",
   "version": "3.11.3"
  }
 },
 "nbformat": 4,
 "nbformat_minor": 5
}
